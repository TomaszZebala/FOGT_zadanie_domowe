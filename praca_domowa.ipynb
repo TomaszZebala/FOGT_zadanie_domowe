{
 "cells": [
  {
   "cell_type": "markdown",
   "source": [
    "Tomasz Zębala 325339"
   ],
   "metadata": {
    "collapsed": false
   },
   "id": "634a408af0b33e1"
  },
  {
   "cell_type": "code",
   "outputs": [],
   "source": [
    "import sympy as sp\n",
    "from sympy.utilities import lambdify"
   ],
   "metadata": {
    "collapsed": false,
    "ExecuteTime": {
     "end_time": "2024-02-04T18:28:47.474630600Z",
     "start_time": "2024-02-04T18:28:46.387985500Z"
    }
   },
   "id": "9cb229b9730f5ffc",
   "execution_count": 1
  },
  {
   "cell_type": "code",
   "outputs": [],
   "source": [
    "sp.init_printing()"
   ],
   "metadata": {
    "collapsed": false,
    "ExecuteTime": {
     "end_time": "2024-02-04T18:28:47.490870400Z",
     "start_time": "2024-02-04T18:28:47.477973Z"
    }
   },
   "id": "5b31afb62f1ff382",
   "execution_count": 2
  },
  {
   "cell_type": "code",
   "outputs": [
    {
     "data": {
      "text/plain": "(x, k, a, m, t, h̅, n, ψ(x))",
      "image/png": "[encoded data removed]",
      "text/latex": "$\\displaystyle \\left( x, \\  k, \\  a, \\  m, \\  t, \\  \\hbar, \\  n, \\  \\psi{\\left(x \\right)}\\right)$"
     },
     "execution_count": 3,
     "metadata": {},
     "output_type": "execute_result"
    }
   ],
   "source": [
    "x = sp.Symbol('x', real=True)\n",
    "k = sp.Symbol('k', real=True, positive=True)\n",
    "a = sp.Symbol('a', real=True)\n",
    "m = sp.Symbol('m', real=True, positive=True)\n",
    "t = sp.Symbol('t', real=True, positive=True)\n",
    "h = sp.Symbol('hbar', real=True, positive=True)\n",
    "n = sp.Symbol('n', integer=True, nonzero=True)\n",
    "pi = sp.Symbol('pi', real=True, positive=True)\n",
    "psi = sp.Function('psi')\n",
    "\n",
    "x, k, a, m, t, h, n, psi(x)"
   ],
   "metadata": {
    "collapsed": false,
    "ExecuteTime": {
     "end_time": "2024-02-04T18:28:49.061699400Z",
     "start_time": "2024-02-04T18:28:47.497881Z"
    }
   },
   "id": "fc2bcd26f244eff",
   "execution_count": 3
  },
  {
   "cell_type": "markdown",
   "source": [
    "Rozwiązanie rownania Schrodingera niezależnego od czasu dla studni nieskonczonego potencjału"
   ],
   "metadata": {
    "collapsed": false
   },
   "id": "7793979d4700811c"
  },
  {
   "cell_type": "code",
   "outputs": [
    {
     "data": {
      "text/plain": "              ___           \n             ╱ 1     ⎛π⋅n⋅x⎞\nψ(x) = √2⋅  ╱  ─ ⋅sin⎜─────⎟\n          ╲╱   a     ⎝  a  ⎠",
      "image/png": "[encoded data removed]",
      "text/latex": "$\\displaystyle \\psi{\\left(x \\right)} = \\sqrt{2} \\sqrt{\\frac{1}{a}} \\sin{\\left(\\frac{\\pi n x}{a} \\right)}$"
     },
     "execution_count": 4,
     "metadata": {},
     "output_type": "execute_result"
    }
   ],
   "source": [
    "eq = sp.Eq(psi(x).diff(x, x), -k**2 * psi(x))\n",
    "sol = sp.dsolve(eq, psi(x), ics={psi(0): 0})\n",
    "sol = sol.subs(k, n * sp.pi / a)\n",
    "sol = sol.subs(sp.Symbol('C1'), sp.sqrt(2 / a))\n",
    "\n",
    "sol"
   ],
   "metadata": {
    "collapsed": false,
    "ExecuteTime": {
     "end_time": "2024-02-04T18:28:49.893552500Z",
     "start_time": "2024-02-04T18:28:49.050835800Z"
    }
   },
   "id": "d26bf8acac613dd2",
   "execution_count": 4
  },
  {
   "cell_type": "markdown",
   "source": [
    "Obliczanie odchylenia standardowego położenia:"
   ],
   "metadata": {
    "collapsed": false
   },
   "id": "19a2281a0467d226"
  },
  {
   "cell_type": "code",
   "outputs": [
    {
     "data": {
      "text/plain": "a\n─\n2",
      "image/png": "[encoded data removed]",
      "text/latex": "$\\displaystyle \\frac{a}{2}$"
     },
     "execution_count": 5,
     "metadata": {},
     "output_type": "execute_result"
    }
   ],
   "source": [
    "Ex = sp.integrate(sol.rhs * x * sol.rhs, (x, 0, a)).simplify()\n",
    "Ex"
   ],
   "metadata": {
    "collapsed": false,
    "ExecuteTime": {
     "end_time": "2024-02-04T18:28:50.483707100Z",
     "start_time": "2024-02-04T18:28:49.901469300Z"
    }
   },
   "id": "b6ef4900b0c52862",
   "execution_count": 5
  },
  {
   "cell_type": "code",
   "outputs": [
    {
     "data": {
      "text/plain": " 2       2  \na       a   \n── - ───────\n3       2  2\n     2⋅π ⋅n ",
      "image/png": "[encoded data removed]",
      "text/latex": "$\\displaystyle \\frac{a^{2}}{3} - \\frac{a^{2}}{2 \\pi^{2} n^{2}}$"
     },
     "execution_count": 6,
     "metadata": {},
     "output_type": "execute_result"
    }
   ],
   "source": [
    "Ex2 = sp.integrate(sol.rhs * x**2 * sol.rhs, (x, 0, a)).simplify()\n",
    "Ex2"
   ],
   "metadata": {
    "collapsed": false,
    "ExecuteTime": {
     "end_time": "2024-02-04T18:28:51.238898600Z",
     "start_time": "2024-02-04T18:28:50.481528600Z"
    }
   },
   "id": "76a067c58f7961c0",
   "execution_count": 6
  },
  {
   "cell_type": "code",
   "outputs": [
    {
     "data": {
      "text/plain": "      ______________\n     ╱  2       2   \n    ╱  a       a    \n   ╱   ── - ─────── \n  ╱    12      2  2 \n╲╱          2⋅π ⋅n  ",
      "image/png": "[encoded data removed]",
      "text/latex": "$\\displaystyle \\sqrt{\\frac{a^{2}}{12} - \\frac{a^{2}}{2 \\pi^{2} n^{2}}}$"
     },
     "execution_count": 7,
     "metadata": {},
     "output_type": "execute_result"
    }
   ],
   "source": [
    "VarX = Ex2 - Ex**2\n",
    "SigmaX = sp.sqrt(VarX)\n",
    "SigmaX"
   ],
   "metadata": {
    "collapsed": false,
    "ExecuteTime": {
     "end_time": "2024-02-04T18:28:51.444929600Z",
     "start_time": "2024-02-04T18:28:51.208924200Z"
    }
   },
   "id": "74a5ad6b9fde800a",
   "execution_count": 7
  },
  {
   "cell_type": "markdown",
   "source": [
    "Obliczanie odchylenia standardowego pędu:"
   ],
   "metadata": {
    "collapsed": false
   },
   "id": "93c294f6a96b1f0c"
  },
  {
   "cell_type": "code",
   "outputs": [
    {
     "data": {
      "text/plain": "0",
      "image/png": "[encoded data removed]",
      "text/latex": "$\\displaystyle 0$"
     },
     "execution_count": 8,
     "metadata": {},
     "output_type": "execute_result"
    }
   ],
   "source": [
    "p = (-1)*sp.I*h\n",
    "Ep = sp.integrate(sol.rhs * p * sol.rhs.diff(x), (x, 0, a)).simplify()\n",
    "Ep\n"
   ],
   "metadata": {
    "collapsed": false,
    "ExecuteTime": {
     "end_time": "2024-02-04T18:28:51.861321800Z",
     "start_time": "2024-02-04T18:28:51.428230700Z"
    }
   },
   "id": "9beb7fbd9fcd25bf",
   "execution_count": 8
  },
  {
   "cell_type": "code",
   "outputs": [
    {
     "data": {
      "text/plain": " 2  2  2\nπ ⋅h̅ ⋅n \n────────\n    2   \n   a    ",
      "image/png": "[encoded data removed]",
      "text/latex": "$\\displaystyle \\frac{\\pi^{2} \\hbar^{2} n^{2}}{a^{2}}$"
     },
     "execution_count": 9,
     "metadata": {},
     "output_type": "execute_result"
    }
   ],
   "source": [
    "Ep2 = sp.integrate(sol.rhs * p**2 * sol.rhs.diff(x, x), (x, 0, a)).simplify()\n",
    "Ep2"
   ],
   "metadata": {
    "collapsed": false,
    "ExecuteTime": {
     "end_time": "2024-02-04T18:28:52.014001700Z",
     "start_time": "2024-02-04T18:28:51.842021600Z"
    }
   },
   "id": "2d9a7e3b3165cd21",
   "execution_count": 9
  },
  {
   "cell_type": "code",
   "outputs": [
    {
     "data": {
      "text/plain": "π⋅h̅⋅│n│\n───────\n  │a│  ",
      "image/png": "[encoded data removed]",
      "text/latex": "$\\displaystyle \\frac{\\pi \\hbar \\left|{n}\\right|}{\\left|{a}\\right|}$"
     },
     "execution_count": 10,
     "metadata": {},
     "output_type": "execute_result"
    }
   ],
   "source": [
    "VarP = Ep2 - Ep**2\n",
    "SigmaP = sp.sqrt(VarP)\n",
    "SigmaP"
   ],
   "metadata": {
    "collapsed": false,
    "ExecuteTime": {
     "end_time": "2024-02-04T18:28:52.171108900Z",
     "start_time": "2024-02-04T18:28:52.014001700Z"
    }
   },
   "id": "e328a8b1287b46ea",
   "execution_count": 10
  },
  {
   "cell_type": "markdown",
   "source": [
    "Sprawdzam zasadę nieozanczoności Heisenberga:"
   ],
   "metadata": {
    "collapsed": false
   },
   "id": "56b8b90095ec806e"
  },
  {
   "cell_type": "code",
   "outputs": [
    {
     "data": {
      "text/plain": "⎛               ______________⎞\n⎜              ╱  2       2   ⎟\n⎜π⋅h̅⋅│n│      ╱  a       a    ⎟\n⎜───────,    ╱   ── - ─────── ⎟\n⎜  │a│      ╱    12      2  2 ⎟\n⎝         ╲╱          2⋅π ⋅n  ⎠",
      "image/png": "[encoded data removed]",
      "text/latex": "$\\displaystyle \\left( \\frac{\\pi \\hbar \\left|{n}\\right|}{\\left|{a}\\right|}, \\  \\sqrt{\\frac{a^{2}}{12} - \\frac{a^{2}}{2 \\pi^{2} n^{2}}}\\right)$"
     },
     "execution_count": 11,
     "metadata": {},
     "output_type": "execute_result"
    }
   ],
   "source": [
    "SigmaP, SigmaX"
   ],
   "metadata": {
    "collapsed": false,
    "ExecuteTime": {
     "end_time": "2024-02-04T18:28:52.297145200Z",
     "start_time": "2024-02-04T18:28:52.103442600Z"
    }
   },
   "id": "5316113d2835af6a",
   "execution_count": 11
  },
  {
   "cell_type": "code",
   "outputs": [
    {
     "data": {
      "text/plain": "1.5707963267949⋅h̅",
      "image/png": "[encoded data removed]",
      "text/latex": "$\\displaystyle 1.5707963267949 \\hbar$"
     },
     "execution_count": 12,
     "metadata": {},
     "output_type": "execute_result"
    }
   ],
   "source": [
    "SigmaPf= lambdify((a, n), SigmaP.subs({pi: pi, h: h}))\n",
    "SigmaPf(4, 2)"
   ],
   "metadata": {
    "collapsed": false,
    "ExecuteTime": {
     "end_time": "2024-02-04T18:28:52.899635400Z",
     "start_time": "2024-02-04T18:28:52.295989500Z"
    }
   },
   "id": "58e8528f15657cf5",
   "execution_count": 12
  },
  {
   "cell_type": "code",
   "outputs": [
    {
     "data": {
      "text/plain": "1.0633395346965417",
      "image/png": "[encoded data removed]",
      "text/latex": "$\\displaystyle 1.06333953469654$"
     },
     "execution_count": 13,
     "metadata": {},
     "output_type": "execute_result"
    }
   ],
   "source": [
    "SigmaXf= lambdify((a, n), SigmaX.subs({pi: pi}))\n",
    "SigmaXf(4, 2)"
   ],
   "metadata": {
    "collapsed": false,
    "ExecuteTime": {
     "end_time": "2024-02-04T18:28:52.958548600Z",
     "start_time": "2024-02-04T18:28:52.882673600Z"
    }
   },
   "id": "e73cab08c1191147",
   "execution_count": 13
  },
  {
   "cell_type": "markdown",
   "source": [
    "Test:"
   ],
   "metadata": {
    "collapsed": false
   },
   "id": "ae6802bfdcfb03f2"
  },
  {
   "cell_type": "code",
   "outputs": [
    {
     "name": "stdout",
     "output_type": "stream",
     "text": [
      "Działa\n"
     ]
    }
   ],
   "source": [
    "#parametry:\n",
    "a, n = 90, 2\n",
    "\n",
    "#Warunek\n",
    "if SigmaPf(a, n)*SigmaXf(a, n) >= h/2:\n",
    "    print(\"Działa\")\n",
    "else:\n",
    "    print(\"Coś zepsułem\")"
   ],
   "metadata": {
    "collapsed": false,
    "ExecuteTime": {
     "end_time": "2024-02-04T18:28:53.016755200Z",
     "start_time": "2024-02-04T18:28:52.956362Z"
    }
   },
   "id": "8307e47b009a78ef",
   "execution_count": 14
  }
 ],
 "metadata": {
  "kernelspec": {
   "display_name": "Python 3",
   "language": "python",
   "name": "python3"
  },
  "language_info": {
   "codemirror_mode": {
    "name": "ipython",
    "version": 2
   },
   "file_extension": ".py",
   "mimetype": "text/x-python",
   "name": "python",
   "nbconvert_exporter": "python",
   "pygments_lexer": "ipython2",
   "version": "2.7.6"
  }
 },
 "nbformat": 4,
 "nbformat_minor": 5
}
